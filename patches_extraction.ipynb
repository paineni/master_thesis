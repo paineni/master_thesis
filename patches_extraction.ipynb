{
 "cells": [
  {
   "cell_type": "code",
   "execution_count": 2,
   "metadata": {},
   "outputs": [],
   "source": [
    "import fiftyone as fo\n",
    "from PIL import Image\n",
    "import os"
   ]
  },
  {
   "cell_type": "code",
   "execution_count": 15,
   "metadata": {},
   "outputs": [],
   "source": [
    "def crop_and_save_dataset(\n",
    "    dataset, output_dir=\"cropped_dataset\", target_size=(224, 224)\n",
    "):\n",
    "    if not os.path.exists(output_dir):\n",
    "        os.makedirs(output_dir)\n",
    "\n",
    "    cropped_samples = []\n",
    "    for split in [\"train\", \"valid\", \"test\"]:\n",
    "        ds = dataset.match_tags(split)\n",
    "        for sample in ds:\n",
    "            image_path = sample.filepath\n",
    "            image = Image.open(image_path)\n",
    "            width, height = image.size\n",
    "\n",
    "            for detection in sample.ground_truth.detections:\n",
    "                label = detection.label\n",
    "                bounding_box = (\n",
    "                    detection.bounding_box\n",
    "                )  # [top-left-x, top-left-y, width, height]\n",
    "\n",
    "                # Convert relative bounding box coordinates to absolute pixel values\n",
    "                x_min = int(bounding_box[0] * width)\n",
    "                y_min = int(bounding_box[1] * height)\n",
    "                x_max = int((bounding_box[0] + bounding_box[2]) * width)\n",
    "                y_max = int((bounding_box[1] + bounding_box[3]) * height)\n",
    "\n",
    "                # Crop the image using bounding box coordinates\n",
    "                cropped_image = image.crop((x_min, y_min, x_max, y_max))\n",
    "\n",
    "                # Resize the cropped image to the target size (224x224)\n",
    "                resized_image = cropped_image.resize(\n",
    "                    target_size, Image.LANCZOS\n",
    "                )\n",
    "\n",
    "                # Save the cropped and resized image\n",
    "                cropped_image_name = f\"{sample.id}_{label}.jpg\"\n",
    "                cropped_image_path = os.path.join(\n",
    "                    output_dir, cropped_image_name\n",
    "                )\n",
    "                resized_image.save(cropped_image_path)\n",
    "\n",
    "                # Create a new FiftyOne sample for the cropped image\n",
    "                cropped_sample = fo.Sample(filepath=cropped_image_path)\n",
    "                cropped_sample[\"label\"] = fo.Classification(label=label)\n",
    "                cropped_sample[\"tags\"] = [split]  # Adding the tag as a list\n",
    "                cropped_samples.append(cropped_sample)\n",
    "\n",
    "    # Create a new FiftyOne dataset with the cropped images\n",
    "    cropped_dataset_name = \"cropped_images_with_splits\"\n",
    "    cropped_dataset = fo.Dataset(name=cropped_dataset_name)\n",
    "    cropped_dataset.add_samples(cropped_samples)\n",
    "\n",
    "    return cropped_dataset"
   ]
  },
  {
   "cell_type": "code",
   "execution_count": null,
   "metadata": {},
   "outputs": [],
   "source": [
    "dataset = fo.Dataset.from_dir(\n",
    "    dataset_dir=\"original_ds\",\n",
    "    dataset_type=fo.types.FiftyOneDataset,\n",
    ")"
   ]
  },
  {
   "cell_type": "code",
   "execution_count": null,
   "metadata": {},
   "outputs": [],
   "source": [
    "fo.Session(dataset, port=23671)"
   ]
  },
  {
   "cell_type": "code",
   "execution_count": null,
   "metadata": {},
   "outputs": [],
   "source": [
    "cropped_dataset = crop_and_save_dataset(dataset)"
   ]
  },
  {
   "cell_type": "code",
   "execution_count": null,
   "metadata": {},
   "outputs": [],
   "source": [
    "cropped_dataset.export(\n",
    "    \"cropped_classification_dataset\", fo.types.FiftyOneDataset\n",
    ")"
   ]
  },
  {
   "cell_type": "code",
   "execution_count": null,
   "metadata": {},
   "outputs": [],
   "source": [
    "fo.Session(cropped_dataset, port=23672)"
   ]
  },
  {
   "cell_type": "code",
   "execution_count": 19,
   "metadata": {},
   "outputs": [],
   "source": [
    "import torch\n",
    "from torch.utils.data import Dataset, DataLoader\n",
    "from torchvision import transforms\n",
    "from PIL import Image"
   ]
  },
  {
   "cell_type": "code",
   "execution_count": null,
   "metadata": {},
   "outputs": [],
   "source": [
    "class FiftyOneDataset(Dataset):\n",
    "    def __init__(self, dataset, transform=None):\n",
    "        \"\"\"\n",
    "        Args:\n",
    "            dataset (fo.Dataset): FiftyOne dataset object.\n",
    "            transform (callable, optional): A function/transform to apply to the images.\n",
    "        \"\"\"\n",
    "        self.dataset = dataset\n",
    "        self.transform = transform\n",
    "        # Create a list of sample IDs\n",
    "        self.sample_ids = [sample.id for sample in dataset]\n",
    "\n",
    "    def __len__(self):\n",
    "        return len(self.sample_ids)\n",
    "\n",
    "    def __getitem__(self, idx):\n",
    "        # Use sample ID to access the sample\n",
    "        sample_id = self.sample_ids[idx]\n",
    "        sample = self.dataset[sample_id]\n",
    "\n",
    "        # Extracting the image file path and label from the sample\n",
    "        image_path = sample.filepath\n",
    "        label = sample[\"label\"]  # Extract the label from the sample\n",
    "\n",
    "        # Open the image file and convert to RGB\n",
    "        image = Image.open(image_path).convert(\"RGB\")\n",
    "\n",
    "        # Apply transformations\n",
    "        if self.transform:\n",
    "            image = self.transform(image)\n",
    "\n",
    "        return image, label\n",
    "\n",
    "\n",
    "# Load your FiftyOne dataset\n",
    "dt = fo.Dataset.from_dir(\n",
    "    \"cropped_classification_dataset\", dataset_type=fo.types.FiftyOneDataset\n",
    ")\n",
    "view = dt.match_tags(\"train\")\n",
    "# Define transformations (excluding resize as images are already 224x224)\n",
    "transform = transforms.Compose(\n",
    "    [\n",
    "        transforms.ToTensor(),  # Convert PIL image to tensor\n",
    "        transforms.Normalize(\n",
    "            mean=[0.485, 0.456, 0.406], std=[0.229, 0.224, 0.225]\n",
    "        ),  # Normalize with VGG16's mean and std\n",
    "    ]\n",
    ")\n",
    "\n",
    "# Create the dataset and dataloader\n",
    "custom_dataset = FiftyOneDataset(view, transform=transform)\n",
    "dataloader = DataLoader(\n",
    "    custom_dataset, batch_size=32, shuffle=True, num_workers=4\n",
    ")"
   ]
  }
 ],
 "metadata": {
  "kernelspec": {
   "display_name": "Python 3",
   "language": "python",
   "name": "python3"
  },
  "language_info": {
   "codemirror_mode": {
    "name": "ipython",
    "version": 3
   },
   "file_extension": ".py",
   "mimetype": "text/x-python",
   "name": "python",
   "nbconvert_exporter": "python",
   "pygments_lexer": "ipython3",
   "version": "3.11.0"
  }
 },
 "nbformat": 4,
 "nbformat_minor": 2
}
